{
 "cells": [
  {
   "cell_type": "markdown",
   "metadata": {},
   "source": [
    "# Question 2: Is there a difference between the ratings of folk music and all other music?"
   ]
  },
  {
   "cell_type": "markdown",
   "metadata": {},
   "source": [
    "Start by importing postSQL library, database, and set up cursor."
   ]
  },
  {
   "cell_type": "code",
   "execution_count": 1,
   "metadata": {},
   "outputs": [],
   "source": [
    "import psycopg2"
   ]
  },
  {
   "cell_type": "code",
   "execution_count": 2,
   "metadata": {},
   "outputs": [],
   "source": [
    "conn = psycopg2.connect(\"dbname=pitchfork\")"
   ]
  },
  {
   "cell_type": "code",
   "execution_count": 3,
   "metadata": {},
   "outputs": [],
   "source": [
    "cur = conn.cursor()"
   ]
  },
  {
   "cell_type": "markdown",
   "metadata": {},
   "source": [
    "To orient, query for table names and columns."
   ]
  },
  {
   "cell_type": "code",
   "execution_count": 9,
   "metadata": {},
   "outputs": [],
   "source": [
    "query_tables_and_columns = \"\"\" SELECT table_name, column_name\n",
    "FROM information_schema.columns\n",
    "WHERE table_schema= 'public';\"\"\""
   ]
  },
  {
   "cell_type": "code",
   "execution_count": 10,
   "metadata": {},
   "outputs": [],
   "source": [
    "cur.execute(query_tables_and_columns)"
   ]
  },
  {
   "cell_type": "code",
   "execution_count": 11,
   "metadata": {},
   "outputs": [
    {
     "data": {
      "text/plain": [
       "[('reviews', 'author_type'),\n",
       " ('reviews', 'best_new_music'),\n",
       " ('labels', 'labels'),\n",
       " ('reviews', 'reviewid'),\n",
       " ('genres', 'id'),\n",
       " ('reviews', 'url'),\n",
       " ('reviews', 'pub_date'),\n",
       " ('artists', 'artist'),\n",
       " ('years', 'year'),\n",
       " ('reviews', 'author'),\n",
       " ('genres', 'reviewid'),\n",
       " ('reviews', 'artist'),\n",
       " ('content', 'content'),\n",
       " ('reviews', 'id'),\n",
       " ('genres', 'genres'),\n",
       " ('years', 'reviewid'),\n",
       " ('artists', 'reviewid'),\n",
       " ('content', 'reviewid'),\n",
       " ('content', 'id'),\n",
       " ('reviews', 'pub_weekday'),\n",
       " ('reviews', 'pub_month'),\n",
       " ('reviews', 'title'),\n",
       " ('reviews', 'pub_day'),\n",
       " ('artists', 'id'),\n",
       " ('years', 'id'),\n",
       " ('reviews', 'pub_year'),\n",
       " ('reviews', 'score'),\n",
       " ('labels', 'reviewid'),\n",
       " ('labels', 'id')]"
      ]
     },
     "execution_count": 11,
     "metadata": {},
     "output_type": "execute_result"
    }
   ],
   "source": [
    "cur.fetchall()"
   ]
  },
  {
   "cell_type": "markdown",
   "metadata": {},
   "source": [
    "Check unique list of genres. Does folk even exist? Include value counts."
   ]
  },
  {
   "cell_type": "code",
   "execution_count": 22,
   "metadata": {},
   "outputs": [],
   "source": [
    "query_unique_genres = \"\"\" SELECT genres, COUNT(genres)\n",
    "FROM genres\n",
    "GROUP BY genres;\"\"\""
   ]
  },
  {
   "cell_type": "code",
   "execution_count": 23,
   "metadata": {},
   "outputs": [],
   "source": [
    "cur.execute(query_unique_genres)"
   ]
  },
  {
   "cell_type": "code",
   "execution_count": 24,
   "metadata": {},
   "outputs": [
    {
     "data": {
      "text/plain": [
       "[('global', 217),\n",
       " ('experimental', 1815),\n",
       " ('metal', 860),\n",
       " (None, 0),\n",
       " ('electronic', 3874),\n",
       " ('folk/country', 685),\n",
       " ('pop/r&b', 1432),\n",
       " ('jazz', 435),\n",
       " ('rap', 1559),\n",
       " ('rock', 9436)]"
      ]
     },
     "execution_count": 24,
     "metadata": {},
     "output_type": "execute_result"
    }
   ],
   "source": [
    "cur.fetchall()"
   ]
  },
  {
   "cell_type": "code",
   "execution_count": null,
   "metadata": {},
   "outputs": [],
   "source": []
  }
 ],
 "metadata": {
  "kernelspec": {
   "display_name": "learn-env",
   "language": "python",
   "name": "learn-env"
  },
  "language_info": {
   "codemirror_mode": {
    "name": "ipython",
    "version": 3
   },
   "file_extension": ".py",
   "mimetype": "text/x-python",
   "name": "python",
   "nbconvert_exporter": "python",
   "pygments_lexer": "ipython3",
   "version": "3.6.6"
  }
 },
 "nbformat": 4,
 "nbformat_minor": 2
}
